{
  "nbformat": 4,
  "nbformat_minor": 0,
  "metadata": {
    "colab": {
      "provenance": [],
      "include_colab_link": true
    },
    "kernelspec": {
      "name": "python3",
      "display_name": "Python 3"
    },
    "language_info": {
      "name": "python"
    }
  },
  "cells": [
    {
      "cell_type": "markdown",
      "metadata": {
        "id": "view-in-github",
        "colab_type": "text"
      },
      "source": [
        "<a href=\"https://colab.research.google.com/github/diyasini13/translationllm/blob/main/%5BSharing%5D_ContentTranslation_Translate_API.ipynb\" target=\"_parent\"><img src=\"https://colab.research.google.com/assets/colab-badge.svg\" alt=\"Open In Colab\"/></a>"
      ]
    },
    {
      "cell_type": "markdown",
      "source": [
        "### **Content Translation**\n",
        "> This notebook will focus on doing content translation using Google's Translation API. In order to do content translation using large langugae model, please refer to https://colab.sandbox.google.com/drive/10AWZyocjY5b7L6qaho46lNpRCzFgmnbm\n",
        "\n",
        "Cloud Translation - Advanced provides a Document Translation API (Advanced) for directly translating formatted documents such as PDF and DOCX. Compared to plain text translations, Document Translation preserves the original formatting and layout in your translated documents, helping you retain much of the original context like paragraph breaks, images, etc..\n",
        "\n",
        "For more details please refer to https://cloud.google.com/translate/docs/advanced/translate-documents#translate_v3beta1_translate_document-python\n",
        "\n",
        "> Prerequisites\n",
        "  - Enable Cloud Translation API for your project\n",
        "  - Assign following permissions to the user\n",
        "   - Cloud Translation API Admin (To access Cloud Translation API)\n",
        "   - Storage Object Admin (To manage buckets)"
      ],
      "metadata": {
        "id": "qlpw57clyVIO"
      }
    },
    {
      "cell_type": "code",
      "execution_count": null,
      "metadata": {
        "id": "jw2isb9J_-ce"
      },
      "outputs": [],
      "source": [
        "# @title Set up environment\n",
        "# https://cloud.google.com/translate/docs/setup\n",
        "!pip install google-cloud-translate==2.0.1\n",
        "!pip install --upgrade google-cloud-translate\n",
        "!pip install --upgrade google-cloud-storage"
      ]
    },
    {
      "cell_type": "markdown",
      "source": [
        "**Colab only**: Uncomment the following cell to restart the kernel or use the button to restart the kernel. For Vertex AI Workbench you can restart the terminal using the button on top."
      ],
      "metadata": {
        "id": "YKp1xwVvoMAN"
      }
    },
    {
      "cell_type": "code",
      "source": [
        "# @title Restart runtime\n",
        "# Automatically restart kernel after installs so that your environment can access the new packages\n",
        "import IPython\n",
        "\n",
        "app = IPython.Application.instance()\n",
        "app.kernel.do_shutdown(True)"
      ],
      "metadata": {
        "id": "IFc5wN47AM_t",
        "colab": {
          "base_uri": "https://localhost:8080/"
        },
        "outputId": "e158d6c5-e770-4947-df44-412c6f692af8"
      },
      "execution_count": null,
      "outputs": [
        {
          "output_type": "execute_result",
          "data": {
            "text/plain": [
              "{'status': 'ok', 'restart': True}"
            ]
          },
          "metadata": {},
          "execution_count": 2
        }
      ]
    },
    {
      "cell_type": "code",
      "source": [
        "# @title Set up authentication\n",
        "from google.colab import auth as google_auth\n",
        "PROJECT_ID = \"gdc-ai-playground\" # @param {type:\"string\")\n",
        "# google_auth.authenticate_user(project_id=PROJECT_ID)\n",
        "\n",
        "!gcloud auth application-default login\n",
        "!gcloud auth application-default set-quota-project $PROJECT_ID\n",
        "# !gcloud auth application-default revoke"
      ],
      "metadata": {
        "id": "oQsrV7yNZYdd",
        "cellView": "form"
      },
      "execution_count": null,
      "outputs": []
    },
    {
      "cell_type": "code",
      "source": [
        "# @title Storage bucket utility function\n",
        "\n",
        "from google.cloud import storage\n",
        "\n",
        "def create_bucket_class_location(bucket_name):\n",
        "    \"\"\"\n",
        "    Create a new bucket in the US region with the coldline storage\n",
        "    class\n",
        "    \"\"\"\n",
        "    global PROJECT_ID\n",
        "    storage_client = storage.Client(project=PROJECT_ID)\n",
        "    bucket = storage_client.bucket(bucket_name)\n",
        "\n",
        "    if bucket.exists():\n",
        "        print(f\"Bucket {bucket_name} already exists. Please use different name or if this has been created by you please ignore\")\n",
        "        return\n",
        "\n",
        "    new_bucket = storage_client.create_bucket(bucket, location=\"us\")\n",
        "\n",
        "    print(\n",
        "        \"Created bucket {} in {} with storage class {}\".format(\n",
        "            new_bucket.name, new_bucket.location, new_bucket.storage_class\n",
        "        )\n",
        "    )\n",
        "    return new_bucket\n",
        "\n",
        "def upload_blob(bucket_name, source_file_name, destination_blob_name):\n",
        "    \"\"\"Uploads a file to the bucket.\"\"\"\n",
        "    global PROJECT_ID\n",
        "    storage_client = storage.Client(project=PROJECT_ID)\n",
        "    bucket = storage_client.get_bucket(bucket_name)\n",
        "    blob = bucket.blob(destination_blob_name)\n",
        "\n",
        "    blob.upload_from_filename(source_file_name)\n"
      ],
      "metadata": {
        "id": "-sqcdRU9TS9l",
        "cellView": "form"
      },
      "execution_count": null,
      "outputs": []
    },
    {
      "cell_type": "code",
      "source": [
        "# @title Create Storage bucket to store documents\n",
        "bucket_name = \"translate-api-docs2\" # @param {type:\"string\")\n",
        "full_bucket_name = f\"gs://{bucket_name}\"\n",
        "\n",
        "create_bucket_class_location(bucket_name)\n",
        "# !gcloud storage buckets create gs://translate-api-docs"
      ],
      "metadata": {
        "colab": {
          "base_uri": "https://localhost:8080/"
        },
        "id": "jEK1sDxHqnT1",
        "outputId": "1d89fed0-1d85-4f7f-ac9f-f7ee3085c523",
        "cellView": "form"
      },
      "execution_count": null,
      "outputs": [
        {
          "output_type": "stream",
          "name": "stdout",
          "text": [
            "Bucket translate-api-docs2 already exists. Please use different name or if this has been created by you please ignore\n"
          ]
        }
      ]
    },
    {
      "cell_type": "code",
      "source": [
        "# @title Download source files to bucket\n",
        "file_url = \"https://www.colorado.edu/amath/sites/default/files/attached-files/ch12_0.pdf\" # @param {type:\"string\"}\n",
        "file_parts =  file_url.split(\"/\")\n",
        "if len(file_parts) > 0:\n",
        "  file_name = file_parts[-1]\n",
        "else:\n",
        "  raise Exception(\"File URL not valid\")\n",
        "\n",
        "!wget $file_url -O $file_name\n",
        "\n",
        "# !wget https://www.colorado.edu/amath/sites/default/files/attached-files/ch12_0.pdf -O ch12_0.pdf\n",
        "# !gsutil cp ch12_0.pdf gs://$bucket_name/ch12_0.pdf\n",
        "upload_blob(bucket_name, file_name, file_name)\n",
        "\n",
        "# !wget https://abc.xyz/assets/20/ef/844a05b84b6f9dbf2c3592e7d9c7/2023q2-alphabet-earnings-release.pdf -O 2023q2-alphabet-earnings-release.pdf\n",
        "# !gsutil cp 2023q2-alphabet-earnings-release.pdf gs://$bucket_name/2023q2-alphabet-earnings-release.pdf\n"
      ],
      "metadata": {
        "id": "s9RbiYDyq1bG",
        "cellView": "form"
      },
      "execution_count": null,
      "outputs": []
    },
    {
      "cell_type": "code",
      "source": [
        "# @title Translate API Utility function\n",
        "# Translate text: https://cloud.google.com/translate/docs/advanced/translate-text-advance\n",
        "# Translate Document: https://cloud.google.com/translate/docs/advanced/translate-documents#translate_a_document_from\n",
        "# Supported languages: https://cloud.google.com/translate/docs/languages\n",
        "# IAM roles: https://cloud.google.com/translate/docs/access-control\n",
        "\n",
        "\n",
        "# Imports the Google Cloud Translation library\n",
        "from google.cloud import translate\n",
        "\n",
        "# Initialize Translation client\n",
        "def translate_text(\n",
        "    text: str\n",
        "    , project_id: str\n",
        "    , source_language_code = \"en-US\"\n",
        "    , target_language_code = \"fr\"\n",
        ") -> translate.TranslationServiceClient:\n",
        "    \"\"\"Translating Text.\"\"\"\n",
        "\n",
        "    client = translate.TranslationServiceClient()\n",
        "\n",
        "    location = \"global\"\n",
        "\n",
        "    parent = f\"projects/{project_id}/locations/{location}\"\n",
        "\n",
        "    # Translate text from English to French\n",
        "    # Detail on supported types can be found here:\n",
        "    # https://cloud.google.com/translate/docs/supported-formats\n",
        "    response = client.translate_text(\n",
        "        request={\n",
        "            \"parent\": parent,\n",
        "            \"contents\": [text],\n",
        "            \"mime_type\": \"text/plain\",  # mime types: text/plain, text/html\n",
        "            \"source_language_code\": source_language_code,\n",
        "            \"target_language_code\": target_language_code,\n",
        "        }\n",
        "    )\n",
        "\n",
        "    # Display the translation for each input text provided\n",
        "    for translation in response.translations:\n",
        "        print(f\"Translated text: {translation.translated_text}\")\n",
        "\n",
        "    return response\n",
        "\n",
        "# Initialize Translation client\n",
        "def translate_document(\n",
        "    gcs_src_file_path: str\n",
        "    , gcs_dest_file_prefix: str\n",
        "    , project_id: str\n",
        "    , source_language_code = \"en-US\"\n",
        "    , target_language_code = \"fr\"\n",
        ") -> translate.TranslationServiceClient:\n",
        "    \"\"\"Translating Text.\"\"\"\n",
        "\n",
        "    client = translate.TranslationServiceClient()\n",
        "\n",
        "    location = \"global\"\n",
        "\n",
        "    parent = f\"projects/{project_id}/locations/{location}\"\n",
        "\n",
        "    response = client.translate_document(\n",
        "        request={\n",
        "            \"parent\": parent,\n",
        "            \"source_language_code\": source_language_code,\n",
        "            \"target_language_code\": target_language_code,\n",
        "            \"document_input_config\": {\n",
        "              \"gcs_source\": {\n",
        "                \"input_uri\": gcs_src_file_path\n",
        "              }\n",
        "            },\n",
        "            \"document_output_config\": {\n",
        "              \"gcs_destination\": {\n",
        "                \"output_uri_prefix\": gcs_dest_file_prefix\n",
        "              }\n",
        "            },\n",
        "            \"is_translate_native_pdf_only\": True\n",
        "        }\n",
        "    )\n",
        "\n",
        "    # Display the translation for each input text provided\n",
        "    # for translation in response.translations:\n",
        "    #     print(f\"Translated text: {translation.translated_text}\")\n",
        "\n",
        "    # return response"
      ],
      "metadata": {
        "id": "Hb240U3CRSR0"
      },
      "execution_count": null,
      "outputs": []
    },
    {
      "cell_type": "code",
      "source": [
        "# @title Translate text English --> Hindi\n",
        "dummy_text = \"Create a shorter version of a document that incorporates pertinent information from the original text. For example, you might want to summarize a chapter from a textbook\"\n",
        "translate_text(text = dummy_text\n",
        "              ,project_id=PROJECT_ID\n",
        "               ,source_language_code=\"en-us\"\n",
        "               ,target_language_code=\"hi\")"
      ],
      "metadata": {
        "cellView": "form",
        "id": "lRKAaxXVRiyh"
      },
      "execution_count": null,
      "outputs": []
    },
    {
      "cell_type": "code",
      "source": [
        "# @title Translate text English --> French\n",
        "dummy_text = \"Create a shorter version of a document that incorporates pertinent information from the original text. For example, you might want to summarize a chapter from a textbook\"\n",
        "translate_text(text = dummy_text\n",
        "              ,project_id=PROJECT_ID\n",
        "               ,source_language_code=\"en-us\"\n",
        "               ,target_language_code=\"fr\")"
      ],
      "metadata": {
        "cellView": "form",
        "id": "UCfs05lksboF"
      },
      "execution_count": null,
      "outputs": []
    },
    {
      "cell_type": "code",
      "source": [
        "# @title Translate text English --> Chinese\n",
        "dummy_text = \"Create a shorter version of a document that incorporates pertinent information from the original text. For example, you might want to summarize a chapter from a textbook\"\n",
        "translate_text(text = dummy_text\n",
        "              ,project_id=PROJECT_ID\n",
        "               ,source_language_code=\"en-us\"\n",
        "               ,target_language_code=\"zh\")"
      ],
      "metadata": {
        "cellView": "form",
        "id": "_wgTe6Fhsi6q"
      },
      "execution_count": null,
      "outputs": []
    },
    {
      "cell_type": "code",
      "source": [
        "# @title Translate document English --> French\n",
        "source_language_code=\"en-us\"\n",
        "target_language_code = \"fr\"\n",
        "translate_document(gcs_src_file_path = f\"gs://{bucket_name}/ch12_0.pdf\"\n",
        "               , gcs_dest_file_prefix = f\"gs://{bucket_name}/dest_{target_language_code}/\"\n",
        "               , project_id=PROJECT_ID\n",
        "               , source_language_code=source_language_code\n",
        "               , target_language_code=target_language_code)"
      ],
      "metadata": {
        "id": "qQlVvwzAdaxu",
        "cellView": "form"
      },
      "execution_count": null,
      "outputs": []
    },
    {
      "cell_type": "code",
      "source": [
        "# @title Translate document English --> Hindi\n",
        "source_language_code=\"en-us\"\n",
        "target_language_code = \"hi\"\n",
        "translate_document(gcs_src_file_path = \"gs://{bucket_name}/2023q2-alphabet-earnings-release.pdf\"\n",
        "               , gcs_dest_file_prefix = f\"gs://{bucket_name}/dest_{target_language_code}/\"\n",
        "               , project_id=PROJECT_ID\n",
        "               , source_language_code=source_language_code\n",
        "               , target_language_code=target_language_code)"
      ],
      "metadata": {
        "id": "jrLTjbBEx4r8"
      },
      "execution_count": null,
      "outputs": []
    }
  ]
}